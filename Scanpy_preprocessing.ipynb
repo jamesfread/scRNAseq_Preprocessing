{
 "cells": [
  {
   "cell_type": "markdown",
   "metadata": {},
   "source": [
    "# scRNA-Seq pre-processing\n",
    "\n",
    "Pre-processing pipleine with scanpy"
   ]
  },
  {
   "cell_type": "code",
   "execution_count": 70,
   "metadata": {},
   "outputs": [],
   "source": [
    "\n",
    "import os \n",
    "import pandas as pd\n",
    "import numpy as np\n",
    "import scanpy as sc\n",
    "import scipy as sci\n",
    "import matplotlib.pyplot as plt\n",
    "import anndata as ad"
   ]
  },
  {
   "cell_type": "code",
   "execution_count": 72,
   "metadata": {},
   "outputs": [],
   "source": [
    "# Read features\n",
    "url = 'https://raw.githubusercontent.com/jamesfread/scRNAseq_Preprocessing/main/Data/Donor2_5yr_Unstim_features.tsv'\n",
    "ft = pd.read_csv(url, sep='\\t', header=None)\n",
    "\n",
    "# Read barcodes\n",
    "url = \"https://raw.githubusercontent.com/jamesfread/scRNAseq_Preprocessing/main/Data/Donor2_5yr_Unstim_barcodes.tsv\"\n",
    "bc = pd.read_csv(url, sep='\\t', header=None)\n",
    "\n",
    "mat = ad.read_mtx('Data/Donor2_5yr_Unstim_matrix.mtx')"
   ]
  },
  {
   "cell_type": "markdown",
   "metadata": {},
   "source": [
    "Check data"
   ]
  },
  {
   "cell_type": "code",
   "execution_count": null,
   "metadata": {},
   "outputs": [],
   "source": [
    "print(ft.head(5))\n",
    "print(bc.head(5))\n",
    "mat"
   ]
  },
  {
   "cell_type": "markdown",
   "metadata": {},
   "source": [
    "Add barcode and gene names to anndata object"
   ]
  },
  {
   "cell_type": "code",
   "execution_count": null,
   "metadata": {},
   "outputs": [],
   "source": [
    "mat.obs_names = ft[1]\n",
    "mat.var_names = bc[0]\n",
    "print(mat.obs_names[:10])\n",
    "print(mat.var_names[:10])"
   ]
  },
  {
   "cell_type": "markdown",
   "metadata": {},
   "source": [
    "Continue here:\n",
    "https://scanpy.readthedocs.io/en/stable/tutorials/basics/clustering.html\n",
    "\n",
    "https://www.kallistobus.tools/tutorials/kb_getting_started/python/kb_intro_2_python/\n"
   ]
  }
 ],
 "metadata": {
  "kernelspec": {
   "display_name": "scRNAseq_py3_11",
   "language": "python",
   "name": "python3"
  },
  "language_info": {
   "codemirror_mode": {
    "name": "ipython",
    "version": 3
   },
   "file_extension": ".py",
   "mimetype": "text/x-python",
   "name": "python",
   "nbconvert_exporter": "python",
   "pygments_lexer": "ipython3",
   "version": "3.11.8"
  }
 },
 "nbformat": 4,
 "nbformat_minor": 2
}
