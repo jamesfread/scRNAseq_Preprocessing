{
 "cells": [
  {
   "cell_type": "markdown",
   "metadata": {},
   "source": [
    "# scRNA-Seq pre-processing\n",
    "\n",
    "Pre-processing pipleine with scanpy"
   ]
  },
  {
   "cell_type": "code",
   "execution_count": 178,
   "metadata": {},
   "outputs": [],
   "source": [
    "\n",
    "import os \n",
    "import pandas as pd\n",
    "import numpy as np\n",
    "import scanpy as sc\n",
    "import scipy as sci\n",
    "import matplotlib.pyplot as plt\n",
    "import anndata as ad"
   ]
  },
  {
   "cell_type": "code",
   "execution_count": 179,
   "metadata": {},
   "outputs": [
    {
     "name": "stdout",
     "output_type": "stream",
     "text": [
      "AnnData object with n_obs × n_vars = 36601 × 1482511\n",
      "AnnData object with n_obs × n_vars = 1482511 × 36601\n"
     ]
    }
   ],
   "source": [
    "# Read features\n",
    "url = 'https://raw.githubusercontent.com/jamesfread/scRNAseq_Preprocessing/main/Data/Donor2_5yr_Unstim_features.tsv'\n",
    "ft = pd.read_csv(url, sep='\\t', header=None)\n",
    "\n",
    "# Read barcodes\n",
    "url = \"https://raw.githubusercontent.com/jamesfread/scRNAseq_Preprocessing/main/Data/Donor2_5yr_Unstim_barcodes.tsv\"\n",
    "bc = pd.read_csv(url, sep='\\t', header=None)\n",
    "\n",
    "mat = sc.read_mtx('Data/Donor2_5yr_Unstim_matrix.mtx')\n",
    "print(mat)\n",
    "mat = ad.AnnData.transpose(mat)\n",
    "print(mat)\n",
    "\n",
    "\n"
   ]
  },
  {
   "cell_type": "markdown",
   "metadata": {},
   "source": [
    "Check data"
   ]
  },
  {
   "cell_type": "code",
   "execution_count": 184,
   "metadata": {},
   "outputs": [
    {
     "name": "stdout",
     "output_type": "stream",
     "text": [
      "                 0            1                2\n",
      "0  ENSG00000243485  MIR1302-2HG  Gene Expression\n",
      "1  ENSG00000237613      FAM138A  Gene Expression\n",
      "2  ENSG00000186092        OR4F5  Gene Expression\n",
      "3  ENSG00000238009   AL627309.1  Gene Expression\n",
      "4  ENSG00000239945   AL627309.3  Gene Expression\n",
      "                    0\n",
      "0  AAACCCAAGAAACACT-1\n",
      "1  AAACCCAAGAAACCCA-1\n",
      "2  AAACCCAAGAAACCCG-1\n",
      "3  AAACCCAAGAAACCTG-1\n",
      "4  AAACCCAAGAAACTAC-1\n"
     ]
    },
    {
     "data": {
      "text/plain": [
       "AnnData object with n_obs × n_vars = 1482511 × 36601"
      ]
     },
     "execution_count": 184,
     "metadata": {},
     "output_type": "execute_result"
    }
   ],
   "source": [
    "print(ft.head(5))\n",
    "print(bc.head(5))\n",
    "mat"
   ]
  },
  {
   "cell_type": "markdown",
   "metadata": {},
   "source": [
    "Add barcode and gene names to anndata object"
   ]
  },
  {
   "cell_type": "code",
   "execution_count": 183,
   "metadata": {},
   "outputs": [
    {
     "name": "stdout",
     "output_type": "stream",
     "text": [
      "36601\n",
      "1482511\n",
      "1482511\n",
      "36601\n"
     ]
    }
   ],
   "source": [
    "print(ft.shape[0]) \n",
    "print(bc.shape[0])\n",
    "print(mat.shape[0]); print(mat.shape[1]) "
   ]
  },
  {
   "cell_type": "code",
   "execution_count": 185,
   "metadata": {},
   "outputs": [
    {
     "name": "stdout",
     "output_type": "stream",
     "text": [
      "Index(['AAACCCAAGAAACACT-1', 'AAACCCAAGAAACCCA-1', 'AAACCCAAGAAACCCG-1',\n",
      "       'AAACCCAAGAAACCTG-1', 'AAACCCAAGAAACTAC-1', 'AAACCCAAGAAACTGT-1',\n",
      "       'AAACCCAAGAAAGCGA-1', 'AAACCCAAGAAATTGC-1', 'AAACCCAAGAACAGGA-1',\n",
      "       'AAACCCAAGAACCCGA-1'],\n",
      "      dtype='object')\n",
      "Index(['MIR1302-2HG', 'FAM138A', 'OR4F5', 'AL627309.1', 'AL627309.3',\n",
      "       'AL627309.2', 'AL627309.5', 'AL627309.4', 'AP006222.2', 'AL732372.1'],\n",
      "      dtype='object')\n",
      "AnnData object with n_obs × n_vars = 1482511 × 36601\n"
     ]
    }
   ],
   "source": [
    "mat.obs_names = bc[0]\n",
    "mat.var_names = ft[1]\n",
    "print(mat.obs_names[:10])\n",
    "print(mat.var_names[:10])\n",
    "print(mat)"
   ]
  },
  {
   "cell_type": "markdown",
   "metadata": {},
   "source": [
    "Next, will need to remove cells with only ambient RNA levels "
   ]
  },
  {
   "cell_type": "code",
   "execution_count": 122,
   "metadata": {},
   "outputs": [],
   "source": [
    "cutoff1 =  100; cutoff2 =  200; cutoff3 =  500; cutoff4 =  1000\n",
    "knee = np.sort((np.array(mat.X.sum(axis=1))).flatten())[::-1]\n",
    "cell_set = np.arange(len(knee))"
   ]
  },
  {
   "cell_type": "markdown",
   "metadata": {},
   "source": [
    "Show the number of cell for each threshold"
   ]
  },
  {
   "cell_type": "code",
   "execution_count": 123,
   "metadata": {},
   "outputs": [
    {
     "name": "stdout",
     "output_type": "stream",
     "text": [
      "100 UMIs  =  12023\n",
      "200 UMIs  =  10528\n",
      "500 UMIs  =  7972\n",
      "1000 UMIs  =  5512\n"
     ]
    }
   ],
   "source": [
    "set = [cutoff1, cutoff2, cutoff3, cutoff4]\n",
    "\n",
    "# access elements of the list one by one\n",
    "for i in set:\n",
    "    if i == 100: j = \"100 UMIs\"; \n",
    "    if i == 200: j = \"200 UMIs\";\n",
    "    if i == 500: j = \"500 UMIs\";\n",
    "    if i == 1000: j = \"1000 UMIs\"\n",
    "    \n",
    "    print(j, \" = \", cell_set[knee > i][::-1][0])"
   ]
  },
  {
   "cell_type": "markdown",
   "metadata": {},
   "source": [
    "Plot the elbow plot"
   ]
  },
  {
   "cell_type": "code",
   "execution_count": 124,
   "metadata": {},
   "outputs": [
    {
     "data": {
      "image/png": "[encoded data removed]",
      "text/plain": [
       "<Figure size 450x450 with 1 Axes>"
      ]
     },
     "metadata": {},
     "output_type": "display_data"
    }
   ],
   "source": [
    "fig, ax = plt.subplots(figsize=(4.5, 4.5))\n",
    "\n",
    "ax.loglog(knee, cell_set, linewidth=5, color=\"grey\")\n",
    "ax.axvline(x=cutoff1, linewidth=1, color=\"seagreen\")\n",
    "ax.axvline(x=cutoff2, linewidth=1, color=\"dodgerblue\")\n",
    "ax.axvline(x=cutoff3, linewidth=1, color=\"orange\")\n",
    "ax.axvline(x=cutoff4, linewidth=1, color=\"red\")\n",
    "\n",
    "ax.axhline(y=cell_set[knee > cutoff1][::-1][0], linewidth=1, color=\"seagreen\")\n",
    "ax.axhline(y=cell_set[knee > cutoff2][::-1][0], linewidth=1, color=\"dodgerblue\")\n",
    "ax.axhline(y=cell_set[knee > cutoff3][::-1][0], linewidth=1, color=\"orange\")\n",
    "ax.axhline(y=cell_set[knee > cutoff4][::-1][0], linewidth=1, color=\"red\")\n",
    "\n",
    "\n",
    "ax.set_xlabel(\"UMI Counts\")\n",
    "ax.set_ylabel(\"Set of Barcodes\")\n",
    "\n",
    "plt.grid(True, which=\"both\")\n",
    "plt.show()"
   ]
  },
  {
   "cell_type": "markdown",
   "metadata": {},
   "source": [
    "Make cutoff 500"
   ]
  },
  {
   "cell_type": "code",
   "execution_count": 125,
   "metadata": {},
   "outputs": [
    {
     "data": {
      "text/plain": [
       "7972"
      ]
     },
     "execution_count": 125,
     "metadata": {},
     "output_type": "execute_result"
    }
   ],
   "source": [
    "expected_num_cells = cell_set[knee > cutoff3][::-1][0]\n",
    "\n",
    "expected_num_cells"
   ]
  },
  {
   "cell_type": "code",
   "execution_count": 130,
   "metadata": {},
   "outputs": [
    {
     "name": "stdout",
     "output_type": "stream",
     "text": [
      "AnnData object with n_obs × n_vars = 36601 × 1482511\n",
      "AnnData object with n_obs × n_vars = 7973 × 1482511\n",
      "    obs: 'n_counts'\n"
     ]
    },
    {
     "name": "stderr",
     "output_type": "stream",
     "text": [
      "c:\\Users\\jread\\AppData\\Local\\anaconda3\\envs\\scRNAseq_py3_11\\Lib\\site-packages\\anndata\\_core\\anndata.py:1818: UserWarning: Observation names are not unique. To make them unique, call `.obs_names_make_unique`.\n",
      "  utils.warn_names_duplicates(\"obs\")\n"
     ]
    }
   ],
   "source": [
    "# Filter the cells according to the threshold determined from the knee plot\n",
    "mat2 = mat.copy()\n",
    "#sc.pp.filter_cells(mat2, min_genes=cutoff3)\n",
    "sc.pp.filter_cells(mat2, min_counts=knee[expected_num_cells])\n",
    "\n",
    "print(mat)\n",
    "print(mat2)"
   ]
  },
  {
   "cell_type": "code",
   "execution_count": 131,
   "metadata": {},
   "outputs": [
    {
     "name": "stdout",
     "output_type": "stream",
     "text": [
      "Index(['MIR1302-2HG', 'FAM138A', 'OR4F5', 'AL627309.1', 'AL627309.3',\n",
      "       'AL627309.2', 'AL627309.5', 'AL627309.4', 'AP006222.2', 'AL732372.1'],\n",
      "      dtype='object')\n",
      "Index(['AAACCCAAGAAACACT-1', 'AAACCCAAGAAACCCA-1', 'AAACCCAAGAAACCCG-1',\n",
      "       'AAACCCAAGAAACCTG-1', 'AAACCCAAGAAACTAC-1', 'AAACCCAAGAAACTGT-1',\n",
      "       'AAACCCAAGAAAGCGA-1', 'AAACCCAAGAAATTGC-1', 'AAACCCAAGAACAGGA-1',\n",
      "       'AAACCCAAGAACCCGA-1'],\n",
      "      dtype='object')\n"
     ]
    }
   ],
   "source": [
    "print(mat.obs_names[:10])\n",
    "print(mat.var_names[:10])"
   ]
  },
  {
   "cell_type": "markdown",
   "metadata": {},
   "source": [
    "Continue here:\n",
    "https://scanpy.readthedocs.io/en/stable/tutorials/basics/clustering.html\n",
    "\n",
    "https://www.kallistobus.tools/tutorials/kb_getting_started/python/kb_intro_2_python/\n"
   ]
  }
 ],
 "metadata": {
  "kernelspec": {
   "display_name": "scRNAseq_py3_11",
   "language": "python",
   "name": "python3"
  },
  "language_info": {
   "codemirror_mode": {
    "name": "ipython",
    "version": 3
   },
   "file_extension": ".py",
   "mimetype": "text/x-python",
   "name": "python",
   "nbconvert_exporter": "python",
   "pygments_lexer": "ipython3",
   "version": "3.11.8"
  }
 },
 "nbformat": 4,
 "nbformat_minor": 2
}
