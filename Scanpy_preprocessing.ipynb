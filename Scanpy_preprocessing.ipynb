{
 "cells": [
  {
   "cell_type": "markdown",
   "metadata": {},
   "source": [
    "# scRNA-Seq pre-processing\n",
    "\n",
    "Pre-processing pipleine with scanpy"
   ]
  },
  {
   "cell_type": "code",
   "execution_count": 1,
   "metadata": {},
   "outputs": [],
   "source": [
    "\n",
    "import os \n",
    "import pandas as pd\n",
    "import numpy as np\n",
    "import scanpy as sc\n",
    "import scipy as sci\n",
    "import matplotlib.pyplot as plt\n",
    "import anndata as ad"
   ]
  },
  {
   "cell_type": "code",
   "execution_count": 2,
   "metadata": {},
   "outputs": [
    {
     "name": "stdout",
     "output_type": "stream",
     "text": [
      "AnnData object with n_obs × n_vars = 36601 × 1482511\n",
      "AnnData object with n_obs × n_vars = 1482511 × 36601\n"
     ]
    }
   ],
   "source": [
    "# Read features\n",
    "url = 'https://raw.githubusercontent.com/jamesfread/scRNAseq_Preprocessing/main/Data/Donor2_5yr_Unstim_features.tsv'\n",
    "ft = pd.read_csv(url, sep='\\t', header=None)\n",
    "\n",
    "# Read barcodes\n",
    "url = \"https://raw.githubusercontent.com/jamesfread/scRNAseq_Preprocessing/main/Data/Donor2_5yr_Unstim_barcodes.tsv\"\n",
    "bc = pd.read_csv(url, sep='\\t', header=None)\n",
    "\n",
    "mat = sc.read_mtx('Data/Donor2_5yr_Unstim_matrix.mtx')\n",
    "print(mat)\n",
    "mat = ad.AnnData.transpose(mat)\n",
    "print(mat)\n",
    "\n",
    "\n"
   ]
  },
  {
   "cell_type": "markdown",
   "metadata": {},
   "source": [
    "Check data"
   ]
  },
  {
   "cell_type": "code",
   "execution_count": 3,
   "metadata": {},
   "outputs": [
    {
     "name": "stdout",
     "output_type": "stream",
     "text": [
      "                 0            1                2\n",
      "0  ENSG00000243485  MIR1302-2HG  Gene Expression\n",
      "1  ENSG00000237613      FAM138A  Gene Expression\n",
      "2  ENSG00000186092        OR4F5  Gene Expression\n",
      "3  ENSG00000238009   AL627309.1  Gene Expression\n",
      "4  ENSG00000239945   AL627309.3  Gene Expression\n",
      "                    0\n",
      "0  AAACCCAAGAAACACT-1\n",
      "1  AAACCCAAGAAACCCA-1\n",
      "2  AAACCCAAGAAACCCG-1\n",
      "3  AAACCCAAGAAACCTG-1\n",
      "4  AAACCCAAGAAACTAC-1\n"
     ]
    },
    {
     "data": {
      "text/plain": [
       "AnnData object with n_obs × n_vars = 1482511 × 36601"
      ]
     },
     "execution_count": 3,
     "metadata": {},
     "output_type": "execute_result"
    }
   ],
   "source": [
    "print(ft.head(5))\n",
    "print(bc.head(5))\n",
    "mat"
   ]
  },
  {
   "cell_type": "markdown",
   "metadata": {},
   "source": [
    "Add column names"
   ]
  },
  {
   "cell_type": "code",
   "execution_count": 4,
   "metadata": {},
   "outputs": [
    {
     "name": "stdout",
     "output_type": "stream",
     "text": [
      "         ENSEMBLID         Gene             Type\n",
      "0  ENSG00000243485  MIR1302-2HG  Gene Expression\n",
      "1  ENSG00000237613      FAM138A  Gene Expression\n",
      "2  ENSG00000186092        OR4F5  Gene Expression\n",
      "3  ENSG00000238009   AL627309.1  Gene Expression\n",
      "4  ENSG00000239945   AL627309.3  Gene Expression\n"
     ]
    }
   ],
   "source": [
    "# Add column names\n",
    "ft.columns = [\"ENSEMBLID\", \"Gene\", \"Type\"]\n",
    "bc.columns = [\"Barcode\"]\n",
    "print(ft.head(5))"
   ]
  },
  {
   "cell_type": "markdown",
   "metadata": {},
   "source": [
    "Add barcode and gene names to anndata object"
   ]
  },
  {
   "cell_type": "code",
   "execution_count": 5,
   "metadata": {},
   "outputs": [
    {
     "name": "stdout",
     "output_type": "stream",
     "text": [
      "36601\n",
      "1482511\n",
      "1482511\n",
      "36601\n"
     ]
    }
   ],
   "source": [
    "print(ft.shape[0]) \n",
    "print(bc.shape[0])\n",
    "print(mat.shape[0]); print(mat.shape[1]) "
   ]
  },
  {
   "cell_type": "code",
   "execution_count": 6,
   "metadata": {},
   "outputs": [
    {
     "name": "stdout",
     "output_type": "stream",
     "text": [
      "Index(['AAACCCAAGAAACACT-1', 'AAACCCAAGAAACCCA-1', 'AAACCCAAGAAACCCG-1',\n",
      "       'AAACCCAAGAAACCTG-1', 'AAACCCAAGAAACTAC-1', 'AAACCCAAGAAACTGT-1',\n",
      "       'AAACCCAAGAAAGCGA-1', 'AAACCCAAGAAATTGC-1', 'AAACCCAAGAACAGGA-1',\n",
      "       'AAACCCAAGAACCCGA-1'],\n",
      "      dtype='object', name='Barcode')\n",
      "Index(['ENSG00000243485', 'ENSG00000237613', 'ENSG00000186092',\n",
      "       'ENSG00000238009', 'ENSG00000239945', 'ENSG00000239906',\n",
      "       'ENSG00000241860', 'ENSG00000241599', 'ENSG00000286448',\n",
      "       'ENSG00000236601'],\n",
      "      dtype='object', name='ENSEMBLID')\n",
      "AnnData object with n_obs × n_vars = 1482511 × 36601\n"
     ]
    }
   ],
   "source": [
    "mat.obs_names = bc[\"Barcode\"]\n",
    "mat.var_names = ft[\"ENSEMBLID\"]\n",
    "print(mat.obs_names[:10])\n",
    "print(mat.var_names[:10])\n",
    "print(mat)"
   ]
  },
  {
   "cell_type": "markdown",
   "metadata": {},
   "source": [
    "Make unique var names"
   ]
  },
  {
   "cell_type": "code",
   "execution_count": 249,
   "metadata": {},
   "outputs": [],
   "source": [
    "\n",
    "# Check duplicates\n",
    "#print(mat.var_names.duplicated().any())\n",
    "#mat.var_names_make_unique()\n",
    "# Recheck duplicates\n",
    "#print(mat.var_names.duplicated().any())"
   ]
  },
  {
   "cell_type": "markdown",
   "metadata": {},
   "source": [
    "Next, will need to remove cells with only ambient RNA levels. "
   ]
  },
  {
   "cell_type": "code",
   "execution_count": 7,
   "metadata": {},
   "outputs": [],
   "source": [
    "cutoff1 =  100; cutoff2 =  200; cutoff3 =  500; cutoff4 =  1000\n",
    "knee = np.sort((np.array(mat.X.sum(axis=1))).flatten())[::-1]\n",
    "cell_set = np.arange(len(knee))"
   ]
  },
  {
   "cell_type": "markdown",
   "metadata": {},
   "source": [
    "Show the number of cell for each threshold"
   ]
  },
  {
   "cell_type": "code",
   "execution_count": 8,
   "metadata": {},
   "outputs": [
    {
     "name": "stdout",
     "output_type": "stream",
     "text": [
      "100 UMIs  =  7767\n",
      "200 UMIs  =  6832\n",
      "500 UMIs  =  6450\n",
      "1000 UMIs  =  6304\n"
     ]
    }
   ],
   "source": [
    "set = [cutoff1, cutoff2, cutoff3, cutoff4]\n",
    "\n",
    "# access elements of the list one by one\n",
    "for i in set:\n",
    "    if i == 100: j = \"100 UMIs\"; \n",
    "    if i == 200: j = \"200 UMIs\";\n",
    "    if i == 500: j = \"500 UMIs\";\n",
    "    if i == 1000: j = \"1000 UMIs\"\n",
    "    \n",
    "    print(j, \" = \", cell_set[knee > i][::-1][0])"
   ]
  },
  {
   "cell_type": "markdown",
   "metadata": {},
   "source": [
    "Plot the elbow plot"
   ]
  },
  {
   "cell_type": "code",
   "execution_count": 9,
   "metadata": {},
   "outputs": [
    {
     "data": {
      "image/png": "[encoded data removed]",
      "text/plain": [
       "<Figure size 450x450 with 1 Axes>"
      ]
     },
     "metadata": {},
     "output_type": "display_data"
    }
   ],
   "source": [
    "fig, ax = plt.subplots(figsize=(4.5, 4.5))\n",
    "\n",
    "ax.loglog(knee, cell_set, linewidth=5, color=\"grey\")\n",
    "ax.axvline(x=cutoff1, linewidth=1, color=\"seagreen\")\n",
    "ax.axvline(x=cutoff2, linewidth=1, color=\"dodgerblue\")\n",
    "ax.axvline(x=cutoff3, linewidth=1, color=\"orange\")\n",
    "ax.axvline(x=cutoff4, linewidth=1, color=\"red\")\n",
    "\n",
    "ax.axhline(y=cell_set[knee > cutoff1][::-1][0], linewidth=1, color=\"seagreen\")\n",
    "ax.axhline(y=cell_set[knee > cutoff2][::-1][0], linewidth=1, color=\"dodgerblue\")\n",
    "ax.axhline(y=cell_set[knee > cutoff3][::-1][0], linewidth=1, color=\"orange\")\n",
    "ax.axhline(y=cell_set[knee > cutoff4][::-1][0], linewidth=1, color=\"red\")\n",
    "\n",
    "\n",
    "ax.set_xlabel(\"UMI Counts\")\n",
    "ax.set_ylabel(\"Set of Barcodes\")\n",
    "\n",
    "plt.grid(True, which=\"both\")\n",
    "plt.show()"
   ]
  },
  {
   "cell_type": "markdown",
   "metadata": {},
   "source": [
    "Make cutoff 200"
   ]
  },
  {
   "cell_type": "code",
   "execution_count": 10,
   "metadata": {},
   "outputs": [
    {
     "data": {
      "text/plain": [
       "6832"
      ]
     },
     "execution_count": 10,
     "metadata": {},
     "output_type": "execute_result"
    }
   ],
   "source": [
    "expected_num_cells = cell_set[knee > cutoff2][::-1][0]\n",
    "\n",
    "expected_num_cells"
   ]
  },
  {
   "cell_type": "code",
   "execution_count": 11,
   "metadata": {},
   "outputs": [
    {
     "name": "stdout",
     "output_type": "stream",
     "text": [
      "AnnData object with n_obs × n_vars = 1482511 × 36601\n",
      "AnnData object with n_obs × n_vars = 6833 × 36601\n",
      "    obs: 'n_counts'\n"
     ]
    }
   ],
   "source": [
    "# Filter the cells according to the threshold determined from the knee plot\n",
    "mat2 = mat.copy()\n",
    "#sc.pp.filter_cells(mat2, min_genes=cutoff3)\n",
    "sc.pp.filter_cells(mat2, min_counts=knee[expected_num_cells])\n",
    "\n",
    "print(mat)\n",
    "print(mat2)"
   ]
  },
  {
   "cell_type": "code",
   "execution_count": 12,
   "metadata": {},
   "outputs": [
    {
     "name": "stdout",
     "output_type": "stream",
     "text": [
      "Index(['AAACCCAAGAAACACT-1', 'AAACCCAAGCGTTCAT-1', 'AAACCCACATCCAATG-1',\n",
      "       'AAACCCACATCGAACT-1', 'AAACCCAGTAACGATA-1', 'AAACCCAGTCGCTCGA-1',\n",
      "       'AAACCCAGTGTGCCTG-1', 'AAACCCATCCAATGCA-1', 'AAACGAACACCAGGTC-1',\n",
      "       'AAACGAACATAGGTAA-1'],\n",
      "      dtype='object', name='Barcode')\n",
      "Index(['ENSG00000243485', 'ENSG00000237613', 'ENSG00000186092',\n",
      "       'ENSG00000238009', 'ENSG00000239945', 'ENSG00000239906',\n",
      "       'ENSG00000241860', 'ENSG00000241599', 'ENSG00000286448',\n",
      "       'ENSG00000236601'],\n",
      "      dtype='object', name='ENSEMBLID')\n"
     ]
    }
   ],
   "source": [
    "print(mat2.obs_names[:10])\n",
    "print(mat2.var_names[:10])"
   ]
  },
  {
   "cell_type": "markdown",
   "metadata": {},
   "source": [
    "Filter out by mitochondrial content"
   ]
  },
  {
   "cell_type": "code",
   "execution_count": 13,
   "metadata": {},
   "outputs": [],
   "source": [
    "mito_ensembl_ids = sc.queries.mitochondrial_genes(\"hsapiens\", attrname=\"ensembl_gene_id\")"
   ]
  },
  {
   "cell_type": "code",
   "execution_count": 14,
   "metadata": {},
   "outputs": [
    {
     "name": "stdout",
     "output_type": "stream",
     "text": [
      "['ENSG00000210049' 'ENSG00000211459' 'ENSG00000210077' 'ENSG00000210082'\n",
      " 'ENSG00000209082' 'ENSG00000198888' 'ENSG00000210100' 'ENSG00000210107'\n",
      " 'ENSG00000210112' 'ENSG00000198763' 'ENSG00000210117' 'ENSG00000210127'\n",
      " 'ENSG00000210135' 'ENSG00000210140' 'ENSG00000210144' 'ENSG00000198804'\n",
      " 'ENSG00000210151' 'ENSG00000210154' 'ENSG00000198712' 'ENSG00000210156'\n",
      " 'ENSG00000228253' 'ENSG00000198899' 'ENSG00000198938' 'ENSG00000210164'\n",
      " 'ENSG00000198840' 'ENSG00000210174' 'ENSG00000212907' 'ENSG00000198886'\n",
      " 'ENSG00000210176' 'ENSG00000210184' 'ENSG00000210191' 'ENSG00000198786'\n",
      " 'ENSG00000198695' 'ENSG00000210194' 'ENSG00000198727' 'ENSG00000210195'\n",
      " 'ENSG00000210196']\n",
      "<class 'numpy.ndarray'>\n",
      "<class 'list'>\n",
      "['ENSG00000210049', 'ENSG00000211459', 'ENSG00000210077', 'ENSG00000210082', 'ENSG00000209082', 'ENSG00000198888', 'ENSG00000210100', 'ENSG00000210107', 'ENSG00000210112', 'ENSG00000198763', 'ENSG00000210117', 'ENSG00000210127', 'ENSG00000210135', 'ENSG00000210140', 'ENSG00000210144', 'ENSG00000198804', 'ENSG00000210151', 'ENSG00000210154', 'ENSG00000198712', 'ENSG00000210156', 'ENSG00000228253', 'ENSG00000198899', 'ENSG00000198938', 'ENSG00000210164', 'ENSG00000198840', 'ENSG00000210174', 'ENSG00000212907', 'ENSG00000198886', 'ENSG00000210176', 'ENSG00000210184', 'ENSG00000210191', 'ENSG00000198786', 'ENSG00000198695', 'ENSG00000210194', 'ENSG00000198727', 'ENSG00000210195', 'ENSG00000210196']\n"
     ]
    }
   ],
   "source": [
    "mito_genes = mito_ensembl_ids[\"ensembl_gene_id\"].values\n",
    "\n",
    "print(mito_genes)\n",
    "print(type(mito_genes))\n",
    "\n",
    "# Convert to list\n",
    "mito_genes2 = mito_genes.tolist()\n",
    "\n",
    "print(type(mito_genes2))\n",
    "print(mito_genes2)"
   ]
  },
  {
   "cell_type": "code",
   "execution_count": 28,
   "metadata": {},
   "outputs": [
    {
     "name": "stdout",
     "output_type": "stream",
     "text": [
      "37\n",
      "['ENSG00000210049', 'ENSG00000211459', 'ENSG00000210077', 'ENSG00000210082', 'ENSG00000209082', 'ENSG00000198888', 'ENSG00000210100', 'ENSG00000210107', 'ENSG00000210112', 'ENSG00000198763', 'ENSG00000210117', 'ENSG00000210127', 'ENSG00000210135', 'ENSG00000210140', 'ENSG00000210144', 'ENSG00000198804', 'ENSG00000210151', 'ENSG00000210154', 'ENSG00000198712', 'ENSG00000210156', 'ENSG00000228253', 'ENSG00000198899', 'ENSG00000198938', 'ENSG00000210164', 'ENSG00000198840', 'ENSG00000210174', 'ENSG00000212907', 'ENSG00000198886', 'ENSG00000210176', 'ENSG00000210184', 'ENSG00000210191', 'ENSG00000198786', 'ENSG00000198695', 'ENSG00000210194', 'ENSG00000198727', 'ENSG00000210195', 'ENSG00000210196']\n",
      "[False, False, False, False, False, True, False, False, False, True, False, False, False, False, False, True, False, False, True, False, True, True, True, False, True, False, True, True, False, False, False, True, True, False, True, False, False]\n",
      "[True, True, True, True, True, False, True, True, True, False, True, True, True, True, True, False, True, True, False, True, False, False, False, True, False, True, False, False, True, True, True, False, False, True, False, True, True]\n"
     ]
    }
   ],
   "source": [
    "\n",
    "## Confirm EnsemblIDs are in there\n",
    "\n",
    "\n",
    "# See number of mitochondrial gene-related EnsemblID's\n",
    "print(len(mito_genes2))\n",
    "print(mito_genes2)\n",
    "\n",
    "# Check if characters exist in the variable names using list comprehension\n",
    "result = [char in mat2.var_names for char in mito_genes2]\n",
    "result2 = [not(char in mat2.var_names) for char in mito_genes2]\n",
    "print(result)\n",
    "print(result2)\n"
   ]
  },
  {
   "cell_type": "markdown",
   "metadata": {},
   "source": [
    "Retain only mito_genes which exist in data set"
   ]
  },
  {
   "cell_type": "code",
   "execution_count": 33,
   "metadata": {},
   "outputs": [
    {
     "name": "stdout",
     "output_type": "stream",
     "text": [
      "13\n",
      "[True, True, True, True, True, True, True, True, True, True, True, True, True]\n"
     ]
    }
   ],
   "source": [
    "\n",
    "from itertools import compress\n",
    "\n",
    "mito_genes3 = list(compress(mito_genes2, result))\n",
    "\n",
    "# Retain only mito_genes which exist in data set\n",
    "# mito_genes3 = [char for char, exists in zip(mito_genes2, mat2.var_names) if exists]\n",
    "print(len(mito_genes3))\n",
    "\n",
    "print([char in mat2.var_names for char in mito_genes3])\n"
   ]
  },
  {
   "cell_type": "code",
   "execution_count": 35,
   "metadata": {},
   "outputs": [],
   "source": [
    "# for each cell compute fraction of counts in mito genes vs. all genes\n",
    "\n",
    "mat2.obs['percent_mito'] = np.sum(\n",
    "    mat2[:, mito_genes3].X, axis=1).A1 / np.sum(mat2.X, axis=1).A1\n",
    "# add the total counts per cell as observations-annotation to adata\n",
    "mat2.obs['n_counts'] = mat2.X.sum(axis=1).A1"
   ]
  },
  {
   "cell_type": "markdown",
   "metadata": {},
   "source": [
    "Plot"
   ]
  },
  {
   "cell_type": "code",
   "execution_count": 41,
   "metadata": {},
   "outputs": [
    {
     "data": {
      "image/png": "[encoded data removed]",
      "text/plain": [
       "<Figure size 728.72x480 with 1 Axes>"
      ]
     },
     "metadata": {},
     "output_type": "display_data"
    },
    {
     "data": {
      "text/plain": [
       "<matplotlib.lines.Line2D at 0x1a5d52dcad0>"
      ]
     },
     "execution_count": 41,
     "metadata": {},
     "output_type": "execute_result"
    }
   ],
   "source": [
    "sc.pl.scatter(mat2, x='n_counts', y='percent_mito')\n",
    "\n",
    "ax.axhline(y=0.2, linewidth=1, color=\"red\") # Add this line"
   ]
  },
  {
   "cell_type": "markdown",
   "metadata": {},
   "source": [
    "Filter out cell with > 20% mitochondrial gene content"
   ]
  },
  {
   "cell_type": "code",
   "execution_count": 42,
   "metadata": {},
   "outputs": [],
   "source": [
    "mat2 = mat2[mat2.obs.percent_mito < 0.2]"
   ]
  },
  {
   "cell_type": "code",
   "execution_count": 43,
   "metadata": {},
   "outputs": [
    {
     "data": {
      "text/plain": [
       "View of AnnData object with n_obs × n_vars = 6436 × 36601\n",
       "    obs: 'n_counts', 'percent_mito'"
      ]
     },
     "execution_count": 43,
     "metadata": {},
     "output_type": "execute_result"
    }
   ],
   "source": [
    "mat2"
   ]
  },
  {
   "cell_type": "markdown",
   "metadata": {},
   "source": [
    "Now filter out genes..."
   ]
  },
  {
   "cell_type": "markdown",
   "metadata": {},
   "source": [
    "Continue here:\n",
    "https://scanpy.readthedocs.io/en/stable/tutorials/basics/clustering.html\n",
    "\n",
    "https://www.kallistobus.tools/tutorials/kb_getting_started/python/kb_intro_2_python/\n"
   ]
  }
 ],
 "metadata": {
  "kernelspec": {
   "display_name": "scRNAseq_py3_11",
   "language": "python",
   "name": "python3"
  },
  "language_info": {
   "codemirror_mode": {
    "name": "ipython",
    "version": 3
   },
   "file_extension": ".py",
   "mimetype": "text/x-python",
   "name": "python",
   "nbconvert_exporter": "python",
   "pygments_lexer": "ipython3",
   "version": "3.11.8"
  }
 },
 "nbformat": 4,
 "nbformat_minor": 2
}
